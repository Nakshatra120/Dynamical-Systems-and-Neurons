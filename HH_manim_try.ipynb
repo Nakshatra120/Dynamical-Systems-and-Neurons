{
 "cells": [
  {
   "cell_type": "code",
   "execution_count": 4,
   "metadata": {},
   "outputs": [],
   "source": [
    "from manim import *\n",
    "import numpy as np\n",
    "config.media_embed = True\n"
   ]
  },
  {
   "cell_type": "code",
   "execution_count": 7,
   "metadata": {},
   "outputs": [
    {
     "ename": "AttributeError",
     "evalue": "ParametricFunction object has no attribute 'add_points'",
     "output_type": "error",
     "traceback": [
      "\u001b[1;31m---------------------------------------------------------------------------\u001b[0m",
      "\u001b[1;31mAttributeError\u001b[0m                            Traceback (most recent call last)",
      "Cell \u001b[1;32mIn[7], line 1\u001b[0m\n\u001b[1;32m----> 1\u001b[0m \u001b[43mget_ipython\u001b[49m\u001b[43m(\u001b[49m\u001b[43m)\u001b[49m\u001b[38;5;241;43m.\u001b[39;49m\u001b[43mrun_cell_magic\u001b[49m\u001b[43m(\u001b[49m\u001b[38;5;124;43m'\u001b[39;49m\u001b[38;5;124;43mmanim\u001b[39;49m\u001b[38;5;124;43m'\u001b[39;49m\u001b[43m,\u001b[49m\u001b[43m \u001b[49m\u001b[38;5;124;43m'\u001b[39;49m\u001b[38;5;124;43m-v WARNING  --progress_bar None -ql --disable_caching HodgkinHuxleyModel\u001b[39;49m\u001b[38;5;124;43m'\u001b[39;49m\u001b[43m,\u001b[49m\u001b[43m \u001b[49m\u001b[38;5;124;43m'\u001b[39;49m\u001b[38;5;124;43m \u001b[39;49m\u001b[38;5;130;43;01m\\n\u001b[39;49;00m\u001b[38;5;124;43mclass HodgkinHuxleyModel(Scene):\u001b[39;49m\u001b[38;5;130;43;01m\\n\u001b[39;49;00m\u001b[38;5;124;43m    def construct(self):\u001b[39;49m\u001b[38;5;130;43;01m\\n\u001b[39;49;00m\u001b[38;5;124;43m        axes = Axes(\u001b[39;49m\u001b[38;5;130;43;01m\\n\u001b[39;49;00m\u001b[38;5;124;43m            x_range=[0, 50, 10],\u001b[39;49m\u001b[38;5;130;43;01m\\n\u001b[39;49;00m\u001b[38;5;124;43m            y_range=[-80, 50, 30],\u001b[39;49m\u001b[38;5;130;43;01m\\n\u001b[39;49;00m\u001b[38;5;124;43m            x_length=10,\u001b[39;49m\u001b[38;5;130;43;01m\\n\u001b[39;49;00m\u001b[38;5;124;43m            y_length=6,\u001b[39;49m\u001b[38;5;130;43;01m\\n\u001b[39;49;00m\u001b[38;5;124;43m            axis_config=\u001b[39;49m\u001b[38;5;124;43m{\u001b[39;49m\u001b[38;5;124;43m\"\u001b[39;49m\u001b[38;5;124;43mcolor\u001b[39;49m\u001b[38;5;124;43m\"\u001b[39;49m\u001b[38;5;124;43m: BLUE},\u001b[39;49m\u001b[38;5;130;43;01m\\n\u001b[39;49;00m\u001b[38;5;124;43m        )\u001b[39;49m\u001b[38;5;130;43;01m\\n\u001b[39;49;00m\u001b[38;5;130;43;01m\\n\u001b[39;49;00m\u001b[38;5;124;43m        # Labels for axes\u001b[39;49m\u001b[38;5;130;43;01m\\n\u001b[39;49;00m\u001b[38;5;124;43m        x_label = axes.get_x_axis_label(\u001b[39;49m\u001b[38;5;124;43m\"\u001b[39;49m\u001b[38;5;124;43mTime (ms)\u001b[39;49m\u001b[38;5;124;43m\"\u001b[39;49m\u001b[38;5;124;43m).set_color(WHITE)\u001b[39;49m\u001b[38;5;130;43;01m\\n\u001b[39;49;00m\u001b[38;5;124;43m        y_label = axes.get_y_axis_label(\u001b[39;49m\u001b[38;5;124;43m\"\u001b[39;49m\u001b[38;5;124;43mVoltage (mV)\u001b[39;49m\u001b[38;5;124;43m\"\u001b[39;49m\u001b[38;5;124;43m).set_color(WHITE)\u001b[39;49m\u001b[38;5;130;43;01m\\n\u001b[39;49;00m\u001b[38;5;130;43;01m\\n\u001b[39;49;00m\u001b[38;5;124;43m        # Initial plot setup\u001b[39;49m\u001b[38;5;130;43;01m\\n\u001b[39;49;00m\u001b[38;5;124;43m        initial_curve = axes.plot(lambda x: -65, color=WHITE, x_range=[0, 0.01])\u001b[39;49m\u001b[38;5;130;43;01m\\n\u001b[39;49;00m\u001b[38;5;130;43;01m\\n\u001b[39;49;00m\u001b[38;5;124;43m        # Adding axes and labels\u001b[39;49m\u001b[38;5;130;43;01m\\n\u001b[39;49;00m\u001b[38;5;124;43m        self.add(axes, x_label, y_label, initial_curve)\u001b[39;49m\u001b[38;5;130;43;01m\\n\u001b[39;49;00m\u001b[38;5;130;43;01m\\n\u001b[39;49;00m\u001b[38;5;124;43m        # ODE system (similar to HHModel, simplified here for example)\u001b[39;49m\u001b[38;5;130;43;01m\\n\u001b[39;49;00m\u001b[38;5;124;43m        def hh_system(state, t):\u001b[39;49m\u001b[38;5;130;43;01m\\n\u001b[39;49;00m\u001b[38;5;124;43m            V, m, n, h = state\u001b[39;49m\u001b[38;5;130;43;01m\\n\u001b[39;49;00m\u001b[38;5;124;43m            dVdt = -0.1 * (V + 65)  # Simplified dynamics for illustration\u001b[39;49m\u001b[38;5;130;43;01m\\n\u001b[39;49;00m\u001b[38;5;124;43m            dmdt = 0  # Placeholder\u001b[39;49m\u001b[38;5;130;43;01m\\n\u001b[39;49;00m\u001b[38;5;124;43m            dndt = 0  # Placeholder\u001b[39;49m\u001b[38;5;130;43;01m\\n\u001b[39;49;00m\u001b[38;5;124;43m            dhdt = 0  # Placeholder\u001b[39;49m\u001b[38;5;130;43;01m\\n\u001b[39;49;00m\u001b[38;5;124;43m            return np.array([dVdt, dmdt, dndt, dhdt])\u001b[39;49m\u001b[38;5;130;43;01m\\n\u001b[39;49;00m\u001b[38;5;130;43;01m\\n\u001b[39;49;00m\u001b[38;5;124;43m        # Updating function for the graph\u001b[39;49m\u001b[38;5;130;43;01m\\n\u001b[39;49;00m\u001b[38;5;124;43m        def update_curve(curve, dt):\u001b[39;49m\u001b[38;5;130;43;01m\\n\u001b[39;49;00m\u001b[38;5;124;43m            last_t = curve.points[-1][0] / axes.x_axis.unit_size\u001b[39;49m\u001b[38;5;130;43;01m\\n\u001b[39;49;00m\u001b[38;5;124;43m            new_t = last_t + dt\u001b[39;49m\u001b[38;5;130;43;01m\\n\u001b[39;49;00m\u001b[38;5;124;43m            last_state = curve.points[-1][1] * axes.y_axis.unit_size\u001b[39;49m\u001b[38;5;130;43;01m\\n\u001b[39;49;00m\u001b[38;5;124;43m            new_state = last_state + hh_system([last_state, 0, 0, 0], last_t)[0] * dt\u001b[39;49m\u001b[38;5;130;43;01m\\n\u001b[39;49;00m\u001b[38;5;124;43m            new_point = axes.c2p(new_t, new_state)\u001b[39;49m\u001b[38;5;130;43;01m\\n\u001b[39;49;00m\u001b[38;5;124;43m            curve.add_points([new_point])\u001b[39;49m\u001b[38;5;130;43;01m\\n\u001b[39;49;00m\u001b[38;5;130;43;01m\\n\u001b[39;49;00m\u001b[38;5;124;43m        # Adding the updater to the curve\u001b[39;49m\u001b[38;5;130;43;01m\\n\u001b[39;49;00m\u001b[38;5;124;43m        initial_curve.add_updater(update_curve)\u001b[39;49m\u001b[38;5;130;43;01m\\n\u001b[39;49;00m\u001b[38;5;130;43;01m\\n\u001b[39;49;00m\u001b[38;5;124;43m        # Running the simulation\u001b[39;49m\u001b[38;5;130;43;01m\\n\u001b[39;49;00m\u001b[38;5;124;43m        # Running the simulation\u001b[39;49m\u001b[38;5;130;43;01m\\n\u001b[39;49;00m\u001b[38;5;124;43m        self.play(\u001b[39;49m\u001b[38;5;130;43;01m\\n\u001b[39;49;00m\u001b[38;5;124;43m            initial_curve.animate,  # Correct usage of the animate method\u001b[39;49m\u001b[38;5;130;43;01m\\n\u001b[39;49;00m\u001b[38;5;124;43m            run_time=5,            # Specify the run time of the animation here\u001b[39;49m\u001b[38;5;130;43;01m\\n\u001b[39;49;00m\u001b[38;5;124;43m            rate_func=linear,\u001b[39;49m\u001b[38;5;130;43;01m\\n\u001b[39;49;00m\u001b[38;5;124;43m        )\u001b[39;49m\u001b[38;5;130;43;01m\\n\u001b[39;49;00m\u001b[38;5;124;43m        initial_curve.clear_updaters()  # Stop updating after 5 seconds\u001b[39;49m\u001b[38;5;130;43;01m\\n\u001b[39;49;00m\u001b[38;5;130;43;01m\\n\u001b[39;49;00m\u001b[38;5;124;43m        self.wait(1)\u001b[39;49m\u001b[38;5;130;43;01m\\n\u001b[39;49;00m\u001b[38;5;124;43m'\u001b[39;49m\u001b[43m)\u001b[49m\n",
      "File \u001b[1;32mc:\\Users\\ABC\\anaconda3\\envs\\my-manim-environment\\Lib\\site-packages\\IPython\\core\\interactiveshell.py:2517\u001b[0m, in \u001b[0;36mInteractiveShell.run_cell_magic\u001b[1;34m(self, magic_name, line, cell)\u001b[0m\n\u001b[0;32m   2515\u001b[0m \u001b[38;5;28;01mwith\u001b[39;00m \u001b[38;5;28mself\u001b[39m\u001b[38;5;241m.\u001b[39mbuiltin_trap:\n\u001b[0;32m   2516\u001b[0m     args \u001b[38;5;241m=\u001b[39m (magic_arg_s, cell)\n\u001b[1;32m-> 2517\u001b[0m     result \u001b[38;5;241m=\u001b[39m \u001b[43mfn\u001b[49m\u001b[43m(\u001b[49m\u001b[38;5;241;43m*\u001b[39;49m\u001b[43margs\u001b[49m\u001b[43m,\u001b[49m\u001b[43m \u001b[49m\u001b[38;5;241;43m*\u001b[39;49m\u001b[38;5;241;43m*\u001b[39;49m\u001b[43mkwargs\u001b[49m\u001b[43m)\u001b[49m\n\u001b[0;32m   2519\u001b[0m \u001b[38;5;66;03m# The code below prevents the output from being displayed\u001b[39;00m\n\u001b[0;32m   2520\u001b[0m \u001b[38;5;66;03m# when using magics with decorator @output_can_be_silenced\u001b[39;00m\n\u001b[0;32m   2521\u001b[0m \u001b[38;5;66;03m# when the last Python token in the expression is a ';'.\u001b[39;00m\n\u001b[0;32m   2522\u001b[0m \u001b[38;5;28;01mif\u001b[39;00m \u001b[38;5;28mgetattr\u001b[39m(fn, magic\u001b[38;5;241m.\u001b[39mMAGIC_OUTPUT_CAN_BE_SILENCED, \u001b[38;5;28;01mFalse\u001b[39;00m):\n",
      "File \u001b[1;32mc:\\Users\\ABC\\anaconda3\\envs\\my-manim-environment\\Lib\\site-packages\\manim\\utils\\ipython_magic.py:141\u001b[0m, in \u001b[0;36mManimMagic.manim\u001b[1;34m(self, line, cell, local_ns)\u001b[0m\n\u001b[0;32m    139\u001b[0m     SceneClass \u001b[38;5;241m=\u001b[39m local_ns[config[\u001b[38;5;124m\"\u001b[39m\u001b[38;5;124mscene_names\u001b[39m\u001b[38;5;124m\"\u001b[39m][\u001b[38;5;241m0\u001b[39m]]\n\u001b[0;32m    140\u001b[0m     scene \u001b[38;5;241m=\u001b[39m SceneClass(renderer\u001b[38;5;241m=\u001b[39mrenderer)\n\u001b[1;32m--> 141\u001b[0m     \u001b[43mscene\u001b[49m\u001b[38;5;241;43m.\u001b[39;49m\u001b[43mrender\u001b[49m\u001b[43m(\u001b[49m\u001b[43m)\u001b[49m\n\u001b[0;32m    142\u001b[0m \u001b[38;5;28;01mfinally\u001b[39;00m:\n\u001b[0;32m    143\u001b[0m     \u001b[38;5;66;03m# Shader cache becomes invalid as the context is destroyed\u001b[39;00m\n\u001b[0;32m    144\u001b[0m     shader_program_cache\u001b[38;5;241m.\u001b[39mclear()\n",
      "File \u001b[1;32mc:\\Users\\ABC\\anaconda3\\envs\\my-manim-environment\\Lib\\site-packages\\manim\\scene\\scene.py:223\u001b[0m, in \u001b[0;36mScene.render\u001b[1;34m(self, preview)\u001b[0m\n\u001b[0;32m    221\u001b[0m \u001b[38;5;28mself\u001b[39m\u001b[38;5;241m.\u001b[39msetup()\n\u001b[0;32m    222\u001b[0m \u001b[38;5;28;01mtry\u001b[39;00m:\n\u001b[1;32m--> 223\u001b[0m     \u001b[38;5;28;43mself\u001b[39;49m\u001b[38;5;241;43m.\u001b[39;49m\u001b[43mconstruct\u001b[49m\u001b[43m(\u001b[49m\u001b[43m)\u001b[49m\n\u001b[0;32m    224\u001b[0m \u001b[38;5;28;01mexcept\u001b[39;00m EndSceneEarlyException:\n\u001b[0;32m    225\u001b[0m     \u001b[38;5;28;01mpass\u001b[39;00m\n",
      "File \u001b[1;32m<string>:45\u001b[0m, in \u001b[0;36mconstruct\u001b[1;34m(self)\u001b[0m\n",
      "File \u001b[1;32mc:\\Users\\ABC\\anaconda3\\envs\\my-manim-environment\\Lib\\site-packages\\manim\\scene\\scene.py:1080\u001b[0m, in \u001b[0;36mScene.play\u001b[1;34m(self, subcaption, subcaption_duration, subcaption_offset, *args, **kwargs)\u001b[0m\n\u001b[0;32m   1077\u001b[0m     \u001b[38;5;28;01mreturn\u001b[39;00m\n\u001b[0;32m   1079\u001b[0m start_time \u001b[38;5;241m=\u001b[39m \u001b[38;5;28mself\u001b[39m\u001b[38;5;241m.\u001b[39mrenderer\u001b[38;5;241m.\u001b[39mtime\n\u001b[1;32m-> 1080\u001b[0m \u001b[38;5;28;43mself\u001b[39;49m\u001b[38;5;241;43m.\u001b[39;49m\u001b[43mrenderer\u001b[49m\u001b[38;5;241;43m.\u001b[39;49m\u001b[43mplay\u001b[49m\u001b[43m(\u001b[49m\u001b[38;5;28;43mself\u001b[39;49m\u001b[43m,\u001b[49m\u001b[43m \u001b[49m\u001b[38;5;241;43m*\u001b[39;49m\u001b[43margs\u001b[49m\u001b[43m,\u001b[49m\u001b[43m \u001b[49m\u001b[38;5;241;43m*\u001b[39;49m\u001b[38;5;241;43m*\u001b[39;49m\u001b[43mkwargs\u001b[49m\u001b[43m)\u001b[49m\n\u001b[0;32m   1081\u001b[0m run_time \u001b[38;5;241m=\u001b[39m \u001b[38;5;28mself\u001b[39m\u001b[38;5;241m.\u001b[39mrenderer\u001b[38;5;241m.\u001b[39mtime \u001b[38;5;241m-\u001b[39m start_time\n\u001b[0;32m   1082\u001b[0m \u001b[38;5;28;01mif\u001b[39;00m subcaption:\n",
      "File \u001b[1;32mc:\\Users\\ABC\\anaconda3\\envs\\my-manim-environment\\Lib\\site-packages\\manim\\renderer\\cairo_renderer.py:104\u001b[0m, in \u001b[0;36mCairoRenderer.play\u001b[1;34m(self, scene, *args, **kwargs)\u001b[0m\n\u001b[0;32m    102\u001b[0m     \u001b[38;5;28mself\u001b[39m\u001b[38;5;241m.\u001b[39mfreeze_current_frame(scene\u001b[38;5;241m.\u001b[39mduration)\n\u001b[0;32m    103\u001b[0m \u001b[38;5;28;01melse\u001b[39;00m:\n\u001b[1;32m--> 104\u001b[0m     \u001b[43mscene\u001b[49m\u001b[38;5;241;43m.\u001b[39;49m\u001b[43mplay_internal\u001b[49m\u001b[43m(\u001b[49m\u001b[43m)\u001b[49m\n\u001b[0;32m    105\u001b[0m \u001b[38;5;28mself\u001b[39m\u001b[38;5;241m.\u001b[39mfile_writer\u001b[38;5;241m.\u001b[39mend_animation(\u001b[38;5;129;01mnot\u001b[39;00m \u001b[38;5;28mself\u001b[39m\u001b[38;5;241m.\u001b[39mskip_animations)\n\u001b[0;32m    107\u001b[0m \u001b[38;5;28mself\u001b[39m\u001b[38;5;241m.\u001b[39mnum_plays \u001b[38;5;241m+\u001b[39m\u001b[38;5;241m=\u001b[39m \u001b[38;5;241m1\u001b[39m\n",
      "File \u001b[1;32mc:\\Users\\ABC\\anaconda3\\envs\\my-manim-environment\\Lib\\site-packages\\manim\\scene\\scene.py:1243\u001b[0m, in \u001b[0;36mScene.play_internal\u001b[1;34m(self, skip_rendering)\u001b[0m\n\u001b[0;32m   1238\u001b[0m \u001b[38;5;28mself\u001b[39m\u001b[38;5;241m.\u001b[39mtime_progression \u001b[38;5;241m=\u001b[39m \u001b[38;5;28mself\u001b[39m\u001b[38;5;241m.\u001b[39m_get_animation_time_progression(\n\u001b[0;32m   1239\u001b[0m     \u001b[38;5;28mself\u001b[39m\u001b[38;5;241m.\u001b[39manimations,\n\u001b[0;32m   1240\u001b[0m     \u001b[38;5;28mself\u001b[39m\u001b[38;5;241m.\u001b[39mduration,\n\u001b[0;32m   1241\u001b[0m )\n\u001b[0;32m   1242\u001b[0m \u001b[38;5;28;01mfor\u001b[39;00m t \u001b[38;5;129;01min\u001b[39;00m \u001b[38;5;28mself\u001b[39m\u001b[38;5;241m.\u001b[39mtime_progression:\n\u001b[1;32m-> 1243\u001b[0m     \u001b[38;5;28;43mself\u001b[39;49m\u001b[38;5;241;43m.\u001b[39;49m\u001b[43mupdate_to_time\u001b[49m\u001b[43m(\u001b[49m\u001b[43mt\u001b[49m\u001b[43m)\u001b[49m\n\u001b[0;32m   1244\u001b[0m     \u001b[38;5;28;01mif\u001b[39;00m \u001b[38;5;129;01mnot\u001b[39;00m skip_rendering \u001b[38;5;129;01mand\u001b[39;00m \u001b[38;5;129;01mnot\u001b[39;00m \u001b[38;5;28mself\u001b[39m\u001b[38;5;241m.\u001b[39mskip_animation_preview:\n\u001b[0;32m   1245\u001b[0m         \u001b[38;5;28mself\u001b[39m\u001b[38;5;241m.\u001b[39mrenderer\u001b[38;5;241m.\u001b[39mrender(\u001b[38;5;28mself\u001b[39m, t, \u001b[38;5;28mself\u001b[39m\u001b[38;5;241m.\u001b[39mmoving_mobjects)\n",
      "File \u001b[1;32mc:\\Users\\ABC\\anaconda3\\envs\\my-manim-environment\\Lib\\site-packages\\manim\\scene\\scene.py:1482\u001b[0m, in \u001b[0;36mScene.update_to_time\u001b[1;34m(self, t)\u001b[0m\n\u001b[0;32m   1480\u001b[0m \u001b[38;5;28mself\u001b[39m\u001b[38;5;241m.\u001b[39mlast_t \u001b[38;5;241m=\u001b[39m t\n\u001b[0;32m   1481\u001b[0m \u001b[38;5;28;01mfor\u001b[39;00m animation \u001b[38;5;129;01min\u001b[39;00m \u001b[38;5;28mself\u001b[39m\u001b[38;5;241m.\u001b[39manimations:\n\u001b[1;32m-> 1482\u001b[0m     \u001b[43manimation\u001b[49m\u001b[38;5;241;43m.\u001b[39;49m\u001b[43mupdate_mobjects\u001b[49m\u001b[43m(\u001b[49m\u001b[43mdt\u001b[49m\u001b[43m)\u001b[49m\n\u001b[0;32m   1483\u001b[0m     alpha \u001b[38;5;241m=\u001b[39m t \u001b[38;5;241m/\u001b[39m animation\u001b[38;5;241m.\u001b[39mrun_time\n\u001b[0;32m   1484\u001b[0m     animation\u001b[38;5;241m.\u001b[39minterpolate(alpha)\n",
      "File \u001b[1;32mc:\\Users\\ABC\\anaconda3\\envs\\my-manim-environment\\Lib\\site-packages\\manim\\animation\\animation.py:284\u001b[0m, in \u001b[0;36mAnimation.update_mobjects\u001b[1;34m(self, dt)\u001b[0m\n\u001b[0;32m    276\u001b[0m \u001b[38;5;250m\u001b[39m\u001b[38;5;124;03m\"\"\"\u001b[39;00m\n\u001b[0;32m    277\u001b[0m \u001b[38;5;124;03mUpdates things like starting_mobject, and (for\u001b[39;00m\n\u001b[0;32m    278\u001b[0m \u001b[38;5;124;03mTransforms) target_mobject.  Note, since typically\u001b[39;00m\n\u001b[1;32m   (...)\u001b[0m\n\u001b[0;32m    281\u001b[0m \u001b[38;5;124;03mnothing to self.mobject.\u001b[39;00m\n\u001b[0;32m    282\u001b[0m \u001b[38;5;124;03m\"\"\"\u001b[39;00m\n\u001b[0;32m    283\u001b[0m \u001b[38;5;28;01mfor\u001b[39;00m mob \u001b[38;5;129;01min\u001b[39;00m \u001b[38;5;28mself\u001b[39m\u001b[38;5;241m.\u001b[39mget_all_mobjects_to_update():\n\u001b[1;32m--> 284\u001b[0m     \u001b[43mmob\u001b[49m\u001b[38;5;241;43m.\u001b[39;49m\u001b[43mupdate\u001b[49m\u001b[43m(\u001b[49m\u001b[43mdt\u001b[49m\u001b[43m)\u001b[49m\n",
      "File \u001b[1;32mc:\\Users\\ABC\\anaconda3\\envs\\my-manim-environment\\Lib\\site-packages\\manim\\mobject\\mobject.py:851\u001b[0m, in \u001b[0;36mMobject.update\u001b[1;34m(self, dt, recursive)\u001b[0m\n\u001b[0;32m    849\u001b[0m \u001b[38;5;28;01mfor\u001b[39;00m updater \u001b[38;5;129;01min\u001b[39;00m \u001b[38;5;28mself\u001b[39m\u001b[38;5;241m.\u001b[39mupdaters:\n\u001b[0;32m    850\u001b[0m     \u001b[38;5;28;01mif\u001b[39;00m \u001b[38;5;124m\"\u001b[39m\u001b[38;5;124mdt\u001b[39m\u001b[38;5;124m\"\u001b[39m \u001b[38;5;129;01min\u001b[39;00m inspect\u001b[38;5;241m.\u001b[39msignature(updater)\u001b[38;5;241m.\u001b[39mparameters:\n\u001b[1;32m--> 851\u001b[0m         \u001b[43mupdater\u001b[49m\u001b[43m(\u001b[49m\u001b[38;5;28;43mself\u001b[39;49m\u001b[43m,\u001b[49m\u001b[43m \u001b[49m\u001b[43mdt\u001b[49m\u001b[43m)\u001b[49m\n\u001b[0;32m    852\u001b[0m     \u001b[38;5;28;01melse\u001b[39;00m:\n\u001b[0;32m    853\u001b[0m         updater(\u001b[38;5;28mself\u001b[39m)\n",
      "File \u001b[1;32m<string>:38\u001b[0m, in \u001b[0;36mupdate_curve\u001b[1;34m(curve, dt)\u001b[0m\n",
      "File \u001b[1;32mc:\\Users\\ABC\\anaconda3\\envs\\my-manim-environment\\Lib\\site-packages\\manim\\mobject\\mobject.py:672\u001b[0m, in \u001b[0;36mMobject.__getattr__\u001b[1;34m(self, attr)\u001b[0m\n\u001b[0;32m    669\u001b[0m     \u001b[38;5;28;01mreturn\u001b[39;00m types\u001b[38;5;241m.\u001b[39mMethodType(setter, \u001b[38;5;28mself\u001b[39m)\n\u001b[0;32m    671\u001b[0m \u001b[38;5;66;03m# Unhandled attribute, therefore error\u001b[39;00m\n\u001b[1;32m--> 672\u001b[0m \u001b[38;5;28;01mraise\u001b[39;00m \u001b[38;5;167;01mAttributeError\u001b[39;00m(\u001b[38;5;124mf\u001b[39m\u001b[38;5;124m\"\u001b[39m\u001b[38;5;132;01m{\u001b[39;00m\u001b[38;5;28mtype\u001b[39m(\u001b[38;5;28mself\u001b[39m)\u001b[38;5;241m.\u001b[39m\u001b[38;5;18m__name__\u001b[39m\u001b[38;5;132;01m}\u001b[39;00m\u001b[38;5;124m object has no attribute \u001b[39m\u001b[38;5;124m'\u001b[39m\u001b[38;5;132;01m{\u001b[39;00mattr\u001b[38;5;132;01m}\u001b[39;00m\u001b[38;5;124m'\u001b[39m\u001b[38;5;124m\"\u001b[39m)\n",
      "\u001b[1;31mAttributeError\u001b[0m: ParametricFunction object has no attribute 'add_points'"
     ]
    }
   ],
   "source": [
    "\n",
    "%%manim -v WARNING  --progress_bar None -ql --disable_caching HodgkinHuxleyModel\n",
    " \n",
    "class HodgkinHuxleyModel(Scene):\n",
    "    def construct(self):\n",
    "        axes = Axes(\n",
    "            x_range=[0, 50, 10],\n",
    "            y_range=[-80, 50, 30],\n",
    "            x_length=10,\n",
    "            y_length=6,\n",
    "            axis_config={\"color\": BLUE},\n",
    "        )\n",
    "\n",
    "        # Labels for axes\n",
    "        x_label = axes.get_x_axis_label(\"Time (ms)\").set_color(WHITE)\n",
    "        y_label = axes.get_y_axis_label(\"Voltage (mV)\").set_color(WHITE)\n",
    "\n",
    "        # Initial plot setup\n",
    "        initial_curve = axes.plot(lambda x: -65, color=WHITE, x_range=[0, 0.01])\n",
    "\n",
    "        # Adding axes and labels\n",
    "        self.add(axes, x_label, y_label, initial_curve)\n",
    "\n",
    "        # ODE system (similar to HHModel, simplified here for example)\n",
    "        def hh_system(state, t):\n",
    "            V, m, n, h = state\n",
    "            dVdt = -0.1 * (V + 65)  # Simplified dynamics for illustration\n",
    "            dmdt = 0  # Placeholder\n",
    "            dndt = 0  # Placeholder\n",
    "            dhdt = 0  # Placeholder\n",
    "            return np.array([dVdt, dmdt, dndt, dhdt])\n",
    "\n",
    "        # Updating function for the graph\n",
    "        def update_curve(curve, dt):\n",
    "            last_t = curve.points[-1][0] / axes.x_axis.unit_size\n",
    "            new_t = last_t + dt\n",
    "            last_state = curve.points[-1][1] * axes.y_axis.unit_size\n",
    "            new_state = last_state + hh_system([last_state, 0, 0, 0], last_t)[0] * dt\n",
    "            new_point = axes.c2p(new_t, new_state)\n",
    "            curve.add_points([new_point])\n",
    "\n",
    "        # Adding the updater to the curve\n",
    "        initial_curve.add_updater(update_curve)\n",
    "\n",
    "        # Running the simulation\n",
    "        # Running the simulation\n",
    "        self.play(\n",
    "            initial_curve.animate,  # Correct usage of the animate method\n",
    "            run_time=5,            # Specify the run time of the animation here\n",
    "            rate_func=linear,\n",
    "        )\n",
    "        initial_curve.clear_updaters()  # Stop updating after 5 seconds\n",
    "\n",
    "        self.wait(1)\n"
   ]
  },
  {
   "cell_type": "code",
   "execution_count": null,
   "metadata": {},
   "outputs": [],
   "source": []
  }
 ],
 "metadata": {
  "kernelspec": {
   "display_name": "my-manim-environment",
   "language": "python",
   "name": "python3"
  },
  "language_info": {
   "codemirror_mode": {
    "name": "ipython",
    "version": 3
   },
   "file_extension": ".py",
   "mimetype": "text/x-python",
   "name": "python",
   "nbconvert_exporter": "python",
   "pygments_lexer": "ipython3",
   "version": "3.11.7"
  }
 },
 "nbformat": 4,
 "nbformat_minor": 2
}
